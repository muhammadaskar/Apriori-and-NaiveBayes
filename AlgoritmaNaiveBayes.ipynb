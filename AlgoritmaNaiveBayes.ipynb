{
  "cells": [
    {
      "cell_type": "code",
      "execution_count": 301,
      "metadata": {
        "id": "n8mHq90CiLhp"
      },
      "outputs": [],
      "source": [
        "import pandas as pd"
      ]
    },
    {
      "cell_type": "code",
      "execution_count": 302,
      "metadata": {
        "colab": {
          "base_uri": "https://localhost:8080/",
          "height": 203
        },
        "id": "cG36QUEdkATc",
        "outputId": "2cb08d3b-6229-497f-a2d2-4fca455cca25"
      },
      "outputs": [
        {
          "data": {
            "text/html": [
              "<div>\n",
              "<style scoped>\n",
              "    .dataframe tbody tr th:only-of-type {\n",
              "        vertical-align: middle;\n",
              "    }\n",
              "\n",
              "    .dataframe tbody tr th {\n",
              "        vertical-align: top;\n",
              "    }\n",
              "\n",
              "    .dataframe thead th {\n",
              "        text-align: right;\n",
              "    }\n",
              "</style>\n",
              "<table border=\"1\" class=\"dataframe\">\n",
              "  <thead>\n",
              "    <tr style=\"text-align: right;\">\n",
              "      <th></th>\n",
              "      <th>NIM</th>\n",
              "      <th>Jenis_Kelamin</th>\n",
              "      <th>IPK</th>\n",
              "      <th>Tahun_Masuk</th>\n",
              "      <th>Tahun_Lulus</th>\n",
              "      <th>Masa_Studi</th>\n",
              "    </tr>\n",
              "  </thead>\n",
              "  <tbody>\n",
              "    <tr>\n",
              "      <th>0</th>\n",
              "      <td>157002</td>\n",
              "      <td>22</td>\n",
              "      <td>3.51</td>\n",
              "      <td>2015</td>\n",
              "      <td>2019</td>\n",
              "      <td>1</td>\n",
              "    </tr>\n",
              "    <tr>\n",
              "      <th>1</th>\n",
              "      <td>157033</td>\n",
              "      <td>11</td>\n",
              "      <td>2.90</td>\n",
              "      <td>2015</td>\n",
              "      <td>2020</td>\n",
              "      <td>2</td>\n",
              "    </tr>\n",
              "    <tr>\n",
              "      <th>2</th>\n",
              "      <td>157050</td>\n",
              "      <td>11</td>\n",
              "      <td>3.65</td>\n",
              "      <td>2015</td>\n",
              "      <td>2019</td>\n",
              "      <td>1</td>\n",
              "    </tr>\n",
              "    <tr>\n",
              "      <th>3</th>\n",
              "      <td>167563</td>\n",
              "      <td>22</td>\n",
              "      <td>4.00</td>\n",
              "      <td>2016</td>\n",
              "      <td>2020</td>\n",
              "      <td>1</td>\n",
              "    </tr>\n",
              "    <tr>\n",
              "      <th>4</th>\n",
              "      <td>161029</td>\n",
              "      <td>22</td>\n",
              "      <td>2.75</td>\n",
              "      <td>2016</td>\n",
              "      <td>2021</td>\n",
              "      <td>2</td>\n",
              "    </tr>\n",
              "  </tbody>\n",
              "</table>\n",
              "</div>"
            ],
            "text/plain": [
              "      NIM  Jenis_Kelamin   IPK  Tahun_Masuk  Tahun_Lulus  Masa_Studi\n",
              "0  157002             22  3.51         2015         2019           1\n",
              "1  157033             11  2.90         2015         2020           2\n",
              "2  157050             11  3.65         2015         2019           1\n",
              "3  167563             22  4.00         2016         2020           1\n",
              "4  161029             22  2.75         2016         2021           2"
            ]
          },
          "execution_count": 302,
          "metadata": {},
          "output_type": "execute_result"
        }
      ],
      "source": [
        "dt = pd.read_excel(\"data_set.xlsx\")\n",
        "dt.head()"
      ]
    },
    {
      "cell_type": "code",
      "execution_count": 303,
      "metadata": {
        "colab": {
          "base_uri": "https://localhost:8080/"
        },
        "id": "-NGfZh9rkL7w",
        "outputId": "bc1c20a4-f37b-44d0-873f-2b00dd9d4bb6"
      },
      "outputs": [
        {
          "name": "stdout",
          "output_type": "stream",
          "text": [
            "<class 'pandas.core.frame.DataFrame'>\n",
            "RangeIndex: 10 entries, 0 to 9\n",
            "Data columns (total 6 columns):\n",
            " #   Column         Non-Null Count  Dtype  \n",
            "---  ------         --------------  -----  \n",
            " 0   NIM            10 non-null     int64  \n",
            " 1   Jenis_Kelamin  10 non-null     int64  \n",
            " 2   IPK            10 non-null     float64\n",
            " 3   Tahun_Masuk    10 non-null     int64  \n",
            " 4   Tahun_Lulus    10 non-null     int64  \n",
            " 5   Masa_Studi     10 non-null     int64  \n",
            "dtypes: float64(1), int64(5)\n",
            "memory usage: 544.0 bytes\n"
          ]
        }
      ],
      "source": [
        "dt.info()"
      ]
    },
    {
      "cell_type": "code",
      "execution_count": 304,
      "metadata": {
        "colab": {
          "base_uri": "https://localhost:8080/",
          "height": 511
        },
        "id": "swVZy1WZkOMz",
        "outputId": "ea3d6e02-ca07-4ae8-b143-d6b9eba7c045"
      },
      "outputs": [
        {
          "data": {
            "text/html": [
              "<div>\n",
              "<style scoped>\n",
              "    .dataframe tbody tr th:only-of-type {\n",
              "        vertical-align: middle;\n",
              "    }\n",
              "\n",
              "    .dataframe tbody tr th {\n",
              "        vertical-align: top;\n",
              "    }\n",
              "\n",
              "    .dataframe thead th {\n",
              "        text-align: right;\n",
              "    }\n",
              "</style>\n",
              "<table border=\"1\" class=\"dataframe\">\n",
              "  <thead>\n",
              "    <tr style=\"text-align: right;\">\n",
              "      <th></th>\n",
              "      <th>Jenis_Kelamin</th>\n",
              "      <th>IPK</th>\n",
              "      <th>Tahun_Masuk</th>\n",
              "      <th>Tahun_Lulus</th>\n",
              "      <th>Masa_Studi</th>\n",
              "    </tr>\n",
              "  </thead>\n",
              "  <tbody>\n",
              "    <tr>\n",
              "      <th>0</th>\n",
              "      <td>22</td>\n",
              "      <td>3.51</td>\n",
              "      <td>2015</td>\n",
              "      <td>2019</td>\n",
              "      <td>1</td>\n",
              "    </tr>\n",
              "    <tr>\n",
              "      <th>1</th>\n",
              "      <td>11</td>\n",
              "      <td>2.90</td>\n",
              "      <td>2015</td>\n",
              "      <td>2020</td>\n",
              "      <td>2</td>\n",
              "    </tr>\n",
              "    <tr>\n",
              "      <th>2</th>\n",
              "      <td>11</td>\n",
              "      <td>3.65</td>\n",
              "      <td>2015</td>\n",
              "      <td>2019</td>\n",
              "      <td>1</td>\n",
              "    </tr>\n",
              "    <tr>\n",
              "      <th>3</th>\n",
              "      <td>22</td>\n",
              "      <td>4.00</td>\n",
              "      <td>2016</td>\n",
              "      <td>2020</td>\n",
              "      <td>1</td>\n",
              "    </tr>\n",
              "    <tr>\n",
              "      <th>4</th>\n",
              "      <td>22</td>\n",
              "      <td>2.75</td>\n",
              "      <td>2016</td>\n",
              "      <td>2021</td>\n",
              "      <td>2</td>\n",
              "    </tr>\n",
              "    <tr>\n",
              "      <th>5</th>\n",
              "      <td>11</td>\n",
              "      <td>3.10</td>\n",
              "      <td>2016</td>\n",
              "      <td>2021</td>\n",
              "      <td>2</td>\n",
              "    </tr>\n",
              "    <tr>\n",
              "      <th>6</th>\n",
              "      <td>22</td>\n",
              "      <td>3.02</td>\n",
              "      <td>2016</td>\n",
              "      <td>2023</td>\n",
              "      <td>3</td>\n",
              "    </tr>\n",
              "    <tr>\n",
              "      <th>7</th>\n",
              "      <td>11</td>\n",
              "      <td>2.95</td>\n",
              "      <td>2015</td>\n",
              "      <td>2020</td>\n",
              "      <td>2</td>\n",
              "    </tr>\n",
              "    <tr>\n",
              "      <th>8</th>\n",
              "      <td>22</td>\n",
              "      <td>3.01</td>\n",
              "      <td>2016</td>\n",
              "      <td>2021</td>\n",
              "      <td>2</td>\n",
              "    </tr>\n",
              "    <tr>\n",
              "      <th>9</th>\n",
              "      <td>22</td>\n",
              "      <td>3.85</td>\n",
              "      <td>2015</td>\n",
              "      <td>2019</td>\n",
              "      <td>1</td>\n",
              "    </tr>\n",
              "  </tbody>\n",
              "</table>\n",
              "</div>"
            ],
            "text/plain": [
              "   Jenis_Kelamin   IPK  Tahun_Masuk  Tahun_Lulus  Masa_Studi\n",
              "0             22  3.51         2015         2019           1\n",
              "1             11  2.90         2015         2020           2\n",
              "2             11  3.65         2015         2019           1\n",
              "3             22  4.00         2016         2020           1\n",
              "4             22  2.75         2016         2021           2\n",
              "5             11  3.10         2016         2021           2\n",
              "6             22  3.02         2016         2023           3\n",
              "7             11  2.95         2015         2020           2\n",
              "8             22  3.01         2016         2021           2\n",
              "9             22  3.85         2015         2019           1"
            ]
          },
          "execution_count": 304,
          "metadata": {},
          "output_type": "execute_result"
        }
      ],
      "source": [
        "x = dt.drop(['NIM'], axis=1)\n",
        "# x = dt\n",
        "x.head(15)"
      ]
    },
    {
      "cell_type": "code",
      "execution_count": 305,
      "metadata": {
        "colab": {
          "base_uri": "https://localhost:8080/"
        },
        "id": "OtltCKThkmwE",
        "outputId": "2585617b-3e42-4330-a901-1a00063d1abc"
      },
      "outputs": [],
      "source": [
        "y = dt[\"Masa_Studi\"].values\n",
        "# y.head(15)\n",
        "X_train, X_test, y_train, y_test = train_test_split(x, y,\n",
        "test_size=0.2)"
      ]
    },
    {
      "cell_type": "code",
      "execution_count": 306,
      "metadata": {
        "colab": {
          "base_uri": "https://localhost:8080/",
          "height": 142
        },
        "id": "ZBdNUrnskuUJ",
        "outputId": "a395a347-6a6a-4c36-959e-062e9bb7c8b4"
      },
      "outputs": [
        {
          "data": {
            "text/html": [
              "<div>\n",
              "<style scoped>\n",
              "    .dataframe tbody tr th:only-of-type {\n",
              "        vertical-align: middle;\n",
              "    }\n",
              "\n",
              "    .dataframe tbody tr th {\n",
              "        vertical-align: top;\n",
              "    }\n",
              "\n",
              "    .dataframe thead th {\n",
              "        text-align: right;\n",
              "    }\n",
              "</style>\n",
              "<table border=\"1\" class=\"dataframe\">\n",
              "  <thead>\n",
              "    <tr style=\"text-align: right;\">\n",
              "      <th></th>\n",
              "      <th>Jenis_Kelamin</th>\n",
              "      <th>IPK</th>\n",
              "      <th>Tahun_Masuk</th>\n",
              "      <th>Tahun_Lulus</th>\n",
              "      <th>Masa_Studi</th>\n",
              "    </tr>\n",
              "  </thead>\n",
              "  <tbody>\n",
              "    <tr>\n",
              "      <th>0</th>\n",
              "      <td>22</td>\n",
              "      <td>3.00</td>\n",
              "      <td>2015</td>\n",
              "      <td>2021</td>\n",
              "      <td>2</td>\n",
              "    </tr>\n",
              "    <tr>\n",
              "      <th>1</th>\n",
              "      <td>11</td>\n",
              "      <td>3.29</td>\n",
              "      <td>2015</td>\n",
              "      <td>2022</td>\n",
              "      <td>2</td>\n",
              "    </tr>\n",
              "    <tr>\n",
              "      <th>2</th>\n",
              "      <td>11</td>\n",
              "      <td>3.58</td>\n",
              "      <td>2015</td>\n",
              "      <td>2019</td>\n",
              "      <td>1</td>\n",
              "    </tr>\n",
              "    <tr>\n",
              "      <th>3</th>\n",
              "      <td>22</td>\n",
              "      <td>2.00</td>\n",
              "      <td>2016</td>\n",
              "      <td>2023</td>\n",
              "      <td>3</td>\n",
              "    </tr>\n",
              "    <tr>\n",
              "      <th>4</th>\n",
              "      <td>11</td>\n",
              "      <td>2.16</td>\n",
              "      <td>2016</td>\n",
              "      <td>2021</td>\n",
              "      <td>2</td>\n",
              "    </tr>\n",
              "  </tbody>\n",
              "</table>\n",
              "</div>"
            ],
            "text/plain": [
              "   Jenis_Kelamin   IPK  Tahun_Masuk  Tahun_Lulus  Masa_Studi\n",
              "0             22  3.00         2015         2021           2\n",
              "1             11  3.29         2015         2022           2\n",
              "2             11  3.58         2015         2019           1\n",
              "3             22  2.00         2016         2023           3\n",
              "4             11  2.16         2016         2021           2"
            ]
          },
          "execution_count": 306,
          "metadata": {},
          "output_type": "execute_result"
        }
      ],
      "source": [
        "from sklearn.model_selection import train_test_split\n",
        "# Import Gaussian Naive Bayes model\n",
        "from sklearn.naive_bayes import GaussianNB\n",
        "# Mengaktifkan/memanggil/membuat fungsi klasifikasi Naive bayes\n",
        "modelnb = GaussianNB()\n",
        "# Memasukkan data training pada fungsi klasifikasi naive bayes\n",
        "classifier = modelnb.fit(x, y)\n",
        "datauji = pd.read_excel(\"data_uji.xlsx\")\n",
        "datauji = datauji.drop(['NIM'], axis=1)\n",
        "datauji.head(5)"
      ]
    },
    {
      "cell_type": "code",
      "execution_count": 307,
      "metadata": {
        "colab": {
          "base_uri": "https://localhost:8080/",
          "height": 142
        },
        "id": "OJe7isJkk1UF",
        "outputId": "fef2b290-a5cd-4a2d-8e87-95ff21505a0d"
      },
      "outputs": [
        {
          "data": {
            "text/html": [
              "<div>\n",
              "<style scoped>\n",
              "    .dataframe tbody tr th:only-of-type {\n",
              "        vertical-align: middle;\n",
              "    }\n",
              "\n",
              "    .dataframe tbody tr th {\n",
              "        vertical-align: top;\n",
              "    }\n",
              "\n",
              "    .dataframe thead th {\n",
              "        text-align: right;\n",
              "    }\n",
              "</style>\n",
              "<table border=\"1\" class=\"dataframe\">\n",
              "  <thead>\n",
              "    <tr style=\"text-align: right;\">\n",
              "      <th></th>\n",
              "      <th>Jenis_Kelamin</th>\n",
              "      <th>IPK</th>\n",
              "      <th>Tahun_Masuk</th>\n",
              "      <th>Tahun_Lulus</th>\n",
              "      <th>Masa_Studi</th>\n",
              "    </tr>\n",
              "  </thead>\n",
              "  <tbody>\n",
              "    <tr>\n",
              "      <th>0</th>\n",
              "      <td>22</td>\n",
              "      <td>3.00</td>\n",
              "      <td>2015</td>\n",
              "      <td>2021</td>\n",
              "      <td>2</td>\n",
              "    </tr>\n",
              "    <tr>\n",
              "      <th>1</th>\n",
              "      <td>11</td>\n",
              "      <td>3.29</td>\n",
              "      <td>2015</td>\n",
              "      <td>2022</td>\n",
              "      <td>2</td>\n",
              "    </tr>\n",
              "    <tr>\n",
              "      <th>2</th>\n",
              "      <td>11</td>\n",
              "      <td>3.58</td>\n",
              "      <td>2015</td>\n",
              "      <td>2019</td>\n",
              "      <td>1</td>\n",
              "    </tr>\n",
              "    <tr>\n",
              "      <th>3</th>\n",
              "      <td>22</td>\n",
              "      <td>2.00</td>\n",
              "      <td>2016</td>\n",
              "      <td>2023</td>\n",
              "      <td>3</td>\n",
              "    </tr>\n",
              "    <tr>\n",
              "      <th>4</th>\n",
              "      <td>11</td>\n",
              "      <td>2.16</td>\n",
              "      <td>2016</td>\n",
              "      <td>2021</td>\n",
              "      <td>2</td>\n",
              "    </tr>\n",
              "  </tbody>\n",
              "</table>\n",
              "</div>"
            ],
            "text/plain": [
              "   Jenis_Kelamin   IPK  Tahun_Masuk  Tahun_Lulus  Masa_Studi\n",
              "0             22  3.00         2015         2021           2\n",
              "1             11  3.29         2015         2022           2\n",
              "2             11  3.58         2015         2019           1\n",
              "3             22  2.00         2016         2023           3\n",
              "4             11  2.16         2016         2021           2"
            ]
          },
          "execution_count": 307,
          "metadata": {},
          "output_type": "execute_result"
        }
      ],
      "source": [
        "x_test = datauji\n",
        "x_test.head(5)"
      ]
    },
    {
      "cell_type": "code",
      "execution_count": 308,
      "metadata": {
        "colab": {
          "base_uri": "https://localhost:8080/"
        },
        "id": "1VhHVTYUk6VD",
        "outputId": "92d0d93e-bfdd-4424-c5a0-34dafaeb6cd1"
      },
      "outputs": [
        {
          "data": {
            "text/plain": [
              "0    2\n",
              "1    2\n",
              "2    1\n",
              "3    3\n",
              "4    2\n",
              "Name: Masa_Studi, dtype: int64"
            ]
          },
          "execution_count": 308,
          "metadata": {},
          "output_type": "execute_result"
        }
      ],
      "source": [
        "y_uji = datauji[\"Masa_Studi\"]\n",
        "y_uji.head(5)"
      ]
    },
    {
      "cell_type": "code",
      "execution_count": 309,
      "metadata": {
        "colab": {
          "base_uri": "https://localhost:8080/"
        },
        "id": "kL_K1VdGlMEX",
        "outputId": "2e3911fc-1af8-468a-87fe-74888b9654b5"
      },
      "outputs": [
        {
          "name": "stdout",
          "output_type": "stream",
          "text": [
            "Prediksi Naive Bayes :  [2 2 1 2 2 1]\n"
          ]
        }
      ],
      "source": [
        "Y_predict = classifier.predict(x_test)\n",
        "print(\"Prediksi Naive Bayes : \",Y_predict)"
      ]
    },
    {
      "cell_type": "code",
      "execution_count": 310,
      "metadata": {
        "colab": {
          "base_uri": "https://localhost:8080/"
        },
        "id": "X8VJknrKlQxV",
        "outputId": "03ffef43-7073-48a8-a387-28a340e68b75"
      },
      "outputs": [
        {
          "name": "stdout",
          "output_type": "stream",
          "text": [
            "Akurasi Naive Bayes :  0.8333333333333334\n"
          ]
        }
      ],
      "source": [
        "from sklearn.metrics import accuracy_score\n",
        "accuracy= accuracy_score(y_uji, Y_predict)\n",
        "print(\"Akurasi Naive Bayes : \",accuracy)"
      ]
    },
    {
      "cell_type": "code",
      "execution_count": 311,
      "metadata": {
        "colab": {
          "base_uri": "https://localhost:8080/"
        },
        "id": "qz8-5f1UlXeI",
        "outputId": "2b041592-a713-4f7c-e29f-065f206272f9"
      },
      "outputs": [
        {
          "name": "stderr",
          "output_type": "stream",
          "text": [
            "C:\\Users\\Muhammad Askar\\AppData\\Local\\Programs\\Python\\Python38-32\\lib\\site-packages\\sklearn\\model_selection\\_split.py:670: UserWarning: The least populated class in y has only 1 members, which is less than n_splits=2.\n",
            "  warnings.warn((\"The least populated class in y has only %d\"\n"
          ]
        },
        {
          "data": {
            "text/plain": [
              "0.7"
            ]
          },
          "execution_count": 311,
          "metadata": {},
          "output_type": "execute_result"
        }
      ],
      "source": [
        "from sklearn.model_selection import cross_val_score\n",
        "scores = cross_val_score(modelnb, x, y, cv=2)\n",
        "scores.mean()"
      ]
    }
  ],
  "metadata": {
    "colab": {
      "name": "Salinan dari naiveBayesDataDisktrit.ipynb",
      "provenance": []
    },
    "kernelspec": {
      "display_name": "Python 3",
      "name": "python3"
    },
    "language_info": {
      "codemirror_mode": {
        "name": "ipython",
        "version": 3
      },
      "file_extension": ".py",
      "mimetype": "text/x-python",
      "name": "python",
      "nbconvert_exporter": "python",
      "pygments_lexer": "ipython3",
      "version": "3.8.2"
    }
  },
  "nbformat": 4,
  "nbformat_minor": 0
}
